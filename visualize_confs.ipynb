{
 "cells": [
  {
   "cell_type": "markdown",
   "metadata": {},
   "source": [
    "### let's look at some of the (hopefully) pretty molecules we generate!"
   ]
  },
  {
   "cell_type": "code",
   "execution_count": 8,
   "metadata": {},
   "outputs": [],
   "source": [
    "from rdkit import Chem\n",
    "import pickle\n",
    "\n",
    "from ipywidgets import interact, fixed, IntSlider\n",
    "import ipywidgets\n",
    "import py3Dmol\n",
    "\n",
    "def show_mol(mol, view, grid):\n",
    "    mb = Chem.MolToMolBlock(mol)\n",
    "    view.removeAllModels(viewer=grid)\n",
    "    view.addModel(mb,'sdf', viewer=grid)\n",
    "    view.setStyle({'model':0},{'stick': {}}, viewer=grid)\n",
    "    view.zoomTo(viewer=grid)\n",
    "    return view\n",
    "\n",
    "def view_single(mol):\n",
    "    view = py3Dmol.view(width=600, height=600, linked=False, viewergrid=(1,1))\n",
    "    show_mol(mol, view, grid=(0, 0))\n",
    "    return view\n",
    "\n",
    "def MolTo3DView(mol, size=(600, 600), style=\"stick\", surface=False, opacity=0.5, confId=0):\n",
    "    \"\"\"Draw molecule in 3D\n",
    "    \n",
    "    Args:\n",
    "    ----\n",
    "        mol: rdMol, molecule to show\n",
    "        size: tuple(int, int), canvas size\n",
    "        style: str, type of drawing molecule\n",
    "               style can be 'line', 'stick', 'sphere', 'carton'\n",
    "        surface, bool, display SAS\n",
    "        opacity, float, opacity of surface, range 0.0-1.0\n",
    "    Return:\n",
    "    ----\n",
    "        viewer: py3Dmol.view, a class for constructing embedded 3Dmol.js views in ipython notebooks.\n",
    "    \"\"\"\n",
    "    assert style in ('line', 'stick', 'sphere', 'carton')\n",
    "    mol[confId] = Chem.RemoveHs(mol[confId])\n",
    "    mblock = Chem.MolToMolBlock(mol[confId])\n",
    "    viewer = py3Dmol.view(width=size[0], height=size[1])\n",
    "    viewer.addModel(mblock, 'mol')\n",
    "    viewer.setStyle({style:{}})\n",
    "    if surface:\n",
    "        viewer.addSurface(py3Dmol.SAS, {'opacity': opacity})\n",
    "    viewer.zoomTo()\n",
    "    return viewer\n",
    "\n",
    "def conf_viewer(idx, mol):\n",
    "    return MolTo3DView(mol, confId=idx).show()"
   ]
  },
  {
   "cell_type": "code",
   "execution_count": 6,
   "metadata": {},
   "outputs": [],
   "source": [
    "with open('test_run/test_mols.pkl', 'rb') as f:\n",
    "    test_mols = pickle.load(f)\n",
    "smiles = list(test_mols.keys())"
   ]
  },
  {
   "cell_type": "code",
   "execution_count": 16,
   "metadata": {},
   "outputs": [
    {
     "name": "stdout",
     "output_type": "stream",
     "text": [
      "O=C[C@@H]1C[C@@]12OC[C@@H]2O\n"
     ]
    },
    {
     "data": {
      "image/png": "[encoded data removed]",
      "text/plain": [
       "<rdkit.Chem.rdchem.Mol at 0x7f639a1d5e40>"
      ]
     },
     "metadata": {},
     "output_type": "display_data"
    },
    {
     "data": {
      "application/3dmoljs_load.v0": "<div id=\"3dmolviewer_1638281673224907\"  style=\"position: relative; width: 600px; height: 600px\">\n        <p id=\"3dmolwarning_1638281673224907\" style=\"background-color:#ffcccc;color:black\">You appear to be running in JupyterLab (or JavaScript failed to load for some other reason).  You need to install the 3dmol extension: <br>\n        <tt>jupyter labextension install jupyterlab_3dmol</tt></p>\n        </div>\n<script>\n\nvar loadScriptAsync = function(uri){\n  return new Promise((resolve, reject) => {\n    var tag = document.createElement('script');\n    tag.src = uri;\n    tag.async = true;\n    tag.onload = () => {\n      resolve();\n    };\n  var firstScriptTag = document.getElementsByTagName('script')[0];\n  firstScriptTag.parentNode.insertBefore(tag, firstScriptTag);\n});\n};\n\nif(typeof $3Dmolpromise === 'undefined') {\n$3Dmolpromise = null;\n  $3Dmolpromise = loadScriptAsync('https://3dmol.org/build/3Dmol.js');\n}\n\nvar viewer_1638281673224907 = null;\nvar warn = document.getElementById(\"3dmolwarning_1638281673224907\");\nif(warn) {\n    warn.parentNode.removeChild(warn);\n}\n$3Dmolpromise.then(function() {\nviewer_1638281673224907 = $3Dmol.createViewer($(\"#3dmolviewer_1638281673224907\"),{backgroundColor:\"white\"});\nviewer_1638281673224907.zoomTo();\n\tviewer_1638281673224907.addModel(\"\\n     RDKit          3D\\n\\n  9 10  0  0  0  0  0  0  0  0999 V2000\\n   -1.9645   -2.4856   -2.7755 O   0  0  0  0  0  0  0  0  0  0  0  0\\n   -1.1549   -1.6843   -2.3308 C   0  0  0  0  0  0  0  0  0  0  0  0\\n   -1.4299   -0.1804   -2.2061 C   0  0  2  0  0  0  0  0  0  0  0  0\\n   -0.2835    0.6792   -2.5151 C   0  0  0  0  0  0  0  0  0  0  0  0\\n   -0.7233    0.5728   -1.1766 C   0  0  1  0  0  0  0  0  0  0  0  0\\n   -1.4649    1.5179   -0.3404 O   0  0  0  0  0  0  0  0  0  0  0  0\\n   -0.6966    1.0961    0.8315 C   0  0  0  0  0  0  0  0  0  0  0  0\\n    0.0000    0.0000    0.0000 C   0  0  2  0  0  0  0  0  0  0  0  0\\n    1.4169    0.0000   -0.0000 O   0  0  0  0  0  0  0  0  0  0  0  0\\n  1  2  2  0\\n  3  2  1  1\\n  3  4  1  0\\n  5  4  1  6\\n  5  6  1  0\\n  6  7  1  0\\n  7  8  1  0\\n  8  9  1  6\\n  5  3  1  0\\n  8  5  1  0\\nM  END\\n\",\"mol\");\n\tviewer_1638281673224907.setStyle({\"stick\": {}});\n\tviewer_1638281673224907.zoomTo();\nviewer_1638281673224907.render();\n});\n</script>",
      "text/html": [
       "<div id=\"3dmolviewer_1638281673224907\"  style=\"position: relative; width: 600px; height: 600px\">\n",
       "        <p id=\"3dmolwarning_1638281673224907\" style=\"background-color:#ffcccc;color:black\">You appear to be running in JupyterLab (or JavaScript failed to load for some other reason).  You need to install the 3dmol extension: <br>\n",
       "        <tt>jupyter labextension install jupyterlab_3dmol</tt></p>\n",
       "        </div>\n",
       "<script>\n",
       "\n",
       "var loadScriptAsync = function(uri){\n",
       "  return new Promise((resolve, reject) => {\n",
       "    var tag = document.createElement('script');\n",
       "    tag.src = uri;\n",
       "    tag.async = true;\n",
       "    tag.onload = () => {\n",
       "      resolve();\n",
       "    };\n",
       "  var firstScriptTag = document.getElementsByTagName('script')[0];\n",
       "  firstScriptTag.parentNode.insertBefore(tag, firstScriptTag);\n",
       "});\n",
       "};\n",
       "\n",
       "if(typeof $3Dmolpromise === 'undefined') {\n",
       "$3Dmolpromise = null;\n",
       "  $3Dmolpromise = loadScriptAsync('https://3dmol.org/build/3Dmol.js');\n",
       "}\n",
       "\n",
       "var viewer_1638281673224907 = null;\n",
       "var warn = document.getElementById(\"3dmolwarning_1638281673224907\");\n",
       "if(warn) {\n",
       "    warn.parentNode.removeChild(warn);\n",
       "}\n",
       "$3Dmolpromise.then(function() {\n",
       "viewer_1638281673224907 = $3Dmol.createViewer($(\"#3dmolviewer_1638281673224907\"),{backgroundColor:\"white\"});\n",
       "viewer_1638281673224907.zoomTo();\n",
       "\tviewer_1638281673224907.addModel(\"\\n     RDKit          3D\\n\\n  9 10  0  0  0  0  0  0  0  0999 V2000\\n   -1.9645   -2.4856   -2.7755 O   0  0  0  0  0  0  0  0  0  0  0  0\\n   -1.1549   -1.6843   -2.3308 C   0  0  0  0  0  0  0  0  0  0  0  0\\n   -1.4299   -0.1804   -2.2061 C   0  0  2  0  0  0  0  0  0  0  0  0\\n   -0.2835    0.6792   -2.5151 C   0  0  0  0  0  0  0  0  0  0  0  0\\n   -0.7233    0.5728   -1.1766 C   0  0  1  0  0  0  0  0  0  0  0  0\\n   -1.4649    1.5179   -0.3404 O   0  0  0  0  0  0  0  0  0  0  0  0\\n   -0.6966    1.0961    0.8315 C   0  0  0  0  0  0  0  0  0  0  0  0\\n    0.0000    0.0000    0.0000 C   0  0  2  0  0  0  0  0  0  0  0  0\\n    1.4169    0.0000   -0.0000 O   0  0  0  0  0  0  0  0  0  0  0  0\\n  1  2  2  0\\n  3  2  1  1\\n  3  4  1  0\\n  5  4  1  6\\n  5  6  1  0\\n  6  7  1  0\\n  7  8  1  0\\n  8  9  1  6\\n  5  3  1  0\\n  8  5  1  0\\nM  END\\n\",\"mol\");\n",
       "\tviewer_1638281673224907.setStyle({\"stick\": {}});\n",
       "\tviewer_1638281673224907.zoomTo();\n",
       "viewer_1638281673224907.render();\n",
       "});\n",
       "</script>"
      ]
     },
     "metadata": {},
     "output_type": "display_data"
    },
    {
     "data": {
      "text/plain": [
       "<py3Dmol.view at 0x7f639aa94590>"
      ]
     },
     "execution_count": 16,
     "metadata": {},
     "output_type": "execute_result"
    }
   ],
   "source": [
    "test_idx = 850\n",
    "\n",
    "\n",
    "\n",
    "smi = smiles[test_idx]\n",
    "print(smi)\n",
    "\n",
    "mol_graph = Chem.MolFromSmiles(smi)\n",
    "display(mol_graph)\n",
    "\n",
    "mols = test_mols[smi]\n",
    "MolTo3DView(mols)\n",
    "#interact(conf_viewer, idx=ipywidgets.IntSlider(min=0, max=len(mols)-1, step=1), mol=fixed(mols));"
   ]
  },
  {
   "cell_type": "code",
   "execution_count": null,
   "metadata": {},
   "outputs": [],
   "source": []
  },
  {
   "cell_type": "code",
   "execution_count": null,
   "metadata": {},
   "outputs": [],
   "source": []
  }
 ],
 "metadata": {
  "kernelspec": {
   "display_name": "Python 3",
   "language": "python",
   "name": "python3"
  },
  "language_info": {
   "codemirror_mode": {
    "name": "ipython",
    "version": 3
   },
   "file_extension": ".py",
   "mimetype": "text/x-python",
   "name": "python",
   "nbconvert_exporter": "python",
   "pygments_lexer": "ipython3",
   "version": "3.7.10"
  }
 },
 "nbformat": 4,
 "nbformat_minor": 4
}
